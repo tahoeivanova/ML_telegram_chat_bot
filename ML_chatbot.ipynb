{
  "nbformat": 4,
  "nbformat_minor": 0,
  "metadata": {
    "colab": {
      "name": "ML_chatbot.ipynb",
      "provenance": [],
      "collapsed_sections": [],
      "authorship_tag": "ABX9TyPAV/E5I9Fo5eZAsudlgYZZ",
      "include_colab_link": true
    },
    "kernelspec": {
      "name": "python3",
      "display_name": "Python 3"
    },
    "language_info": {
      "name": "python"
    }
  },
  "cells": [
    {
      "cell_type": "markdown",
      "metadata": {
        "id": "view-in-github",
        "colab_type": "text"
      },
      "source": [
        "<a href=\"https://colab.research.google.com/github/tahoeivanova/ML_telegram_chat_bot/blob/main/ML_chatbot.ipynb\" target=\"_parent\"><img src=\"https://colab.research.google.com/assets/colab-badge.svg\" alt=\"Open In Colab\"/></a>"
      ]
    },
    {
      "cell_type": "code",
      "metadata": {
        "id": "NgqbHv2Hv8y3"
      },
      "source": [
        "token = 'insert_bot_token'"
      ],
      "execution_count": 30,
      "outputs": []
    },
    {
      "cell_type": "code",
      "metadata": {
        "colab": {
          "base_uri": "https://localhost:8080/"
        },
        "id": "LZQOriPAsS3_",
        "outputId": "4b560a13-2741-45bd-f0fe-078125d18fcd"
      },
      "source": [
        "! pip install pymorphy2\n",
        "!pip install python-telegram-bot --upgrade\n"
      ],
      "execution_count": 6,
      "outputs": [
        {
          "output_type": "stream",
          "text": [
            "Requirement already satisfied: pymorphy2 in /usr/local/lib/python3.7/dist-packages (0.9.1)\n",
            "Requirement already satisfied: dawg-python>=0.7.1 in /usr/local/lib/python3.7/dist-packages (from pymorphy2) (0.7.2)\n",
            "Requirement already satisfied: docopt>=0.6 in /usr/local/lib/python3.7/dist-packages (from pymorphy2) (0.6.2)\n",
            "Requirement already satisfied: pymorphy2-dicts-ru<3.0,>=2.4 in /usr/local/lib/python3.7/dist-packages (from pymorphy2) (2.4.417127.4579844)\n",
            "Requirement already satisfied: python-telegram-bot in /usr/local/lib/python3.7/dist-packages (13.7)\n",
            "Requirement already satisfied: certifi in /usr/local/lib/python3.7/dist-packages (from python-telegram-bot) (2021.5.30)\n",
            "Requirement already satisfied: APScheduler==3.6.3 in /usr/local/lib/python3.7/dist-packages (from python-telegram-bot) (3.6.3)\n",
            "Requirement already satisfied: cachetools==4.2.2 in /usr/local/lib/python3.7/dist-packages (from python-telegram-bot) (4.2.2)\n",
            "Requirement already satisfied: pytz>=2018.6 in /usr/local/lib/python3.7/dist-packages (from python-telegram-bot) (2018.9)\n",
            "Requirement already satisfied: tornado>=6.1 in /usr/local/lib/python3.7/dist-packages (from python-telegram-bot) (6.1)\n",
            "Requirement already satisfied: setuptools>=0.7 in /usr/local/lib/python3.7/dist-packages (from APScheduler==3.6.3->python-telegram-bot) (57.2.0)\n",
            "Requirement already satisfied: tzlocal>=1.2 in /usr/local/lib/python3.7/dist-packages (from APScheduler==3.6.3->python-telegram-bot) (1.5.1)\n",
            "Requirement already satisfied: six>=1.4.0 in /usr/local/lib/python3.7/dist-packages (from APScheduler==3.6.3->python-telegram-bot) (1.15.0)\n"
          ],
          "name": "stdout"
        }
      ]
    },
    {
      "cell_type": "code",
      "metadata": {
        "id": "hdOV7tM36YvD"
      },
      "source": [
        "import random\n",
        "import nltk\n",
        "import json\n",
        "from sklearn.linear_model import LogisticRegression\n",
        "from sklearn.feature_extraction.text import CountVectorizer\n",
        "from sklearn.model_selection import train_test_split\n",
        "from sklearn.ensemble import RandomForestClassifier\n",
        "\n",
        "from telegram import Update, ForceReply\n",
        "from telegram.ext import Updater, CommandHandler, MessageHandler, Filters, CallbackContext\n",
        "from pymorphy2 import MorphAnalyzer\n",
        "\n",
        "import pickle"
      ],
      "execution_count": 7,
      "outputs": []
    },
    {
      "cell_type": "code",
      "metadata": {
        "id": "RDlIw4vdsdF_"
      },
      "source": [
        "morph = MorphAnalyzer()\n",
        "\n",
        "def lemmatize_text(text):\n",
        "  lemmatized_text = []\n",
        "  for word in text.lower().split():\n",
        "    lemmatized_text.append(morph.parse(word)[0].normal_form)\n",
        "  return (' ').join(lemmatized_text)\n",
        "\n",
        "# lemmatize_text('Хорошего дня')"
      ],
      "execution_count": 8,
      "outputs": []
    },
    {
      "cell_type": "code",
      "metadata": {
        "colab": {
          "base_uri": "https://localhost:8080/",
          "height": 35
        },
        "id": "WSyJ83vzsu_3",
        "outputId": "7f5a56be-71a9-4d14-f484-b9417cf7a0ad"
      },
      "source": [
        "morph.parse('')[0].normal_form"
      ],
      "execution_count": 9,
      "outputs": [
        {
          "output_type": "execute_result",
          "data": {
            "application/vnd.google.colaboratory.intrinsic+json": {
              "type": "string"
            },
            "text/plain": [
              "''"
            ]
          },
          "metadata": {
            "tags": []
          },
          "execution_count": 9
        }
      ]
    },
    {
      "cell_type": "code",
      "metadata": {
        "id": "TEQtpnbQhAyn"
      },
      "source": [
        "with open('/content/BOT_CONFIG.json') as f:\n",
        "  BOT_CONFIG = json.load(f)"
      ],
      "execution_count": 10,
      "outputs": []
    },
    {
      "cell_type": "code",
      "metadata": {
        "id": "B9CL2TMFXvVL"
      },
      "source": [
        "def clean(text):\n",
        "  output_text = ''\n",
        "  for letter in text.lower():\n",
        "    if letter in 'абвгдеёжзийклмнопрстуфхцчшщъыьэюя':\n",
        "      output_text+= letter\n",
        "  return output_text\n"
      ],
      "execution_count": 11,
      "outputs": []
    },
    {
      "cell_type": "code",
      "metadata": {
        "id": "fOqgo5re5PeJ"
      },
      "source": [
        "def get_intent(text):\n",
        "  # Определяем интент\n",
        "  for intent in BOT_CONFIG['intents']:\n",
        "    for example in BOT_CONFIG['intents'][intent]['examples']:\n",
        "      # расстояние Левинштейна (редакторское расстояние)\n",
        "      text1 = clean(example)\n",
        "      text2 = clean(text)\n",
        "      if len(text1)*len(text2)!=0:\n",
        "        if nltk.edit_distance(text1, text2)/max(len(text1), len(text1)) < 0.4:\n",
        "          return intent\n",
        "  return 'Не удалось определить интент'"
      ],
      "execution_count": 12,
      "outputs": []
    },
    {
      "cell_type": "code",
      "metadata": {
        "id": "IJ9toserX2Zh"
      },
      "source": [
        "def bot(text):\n",
        "  intent = get_intent_from_model(text)\n",
        "  return random.choice(BOT_CONFIG['intents'][intent]['responces'])"
      ],
      "execution_count": 13,
      "outputs": []
    },
    {
      "cell_type": "code",
      "metadata": {
        "id": "Rcxc0hG_6O8U"
      },
      "source": [
        "# def bot(text):\n",
        "#   intent = get_intent(text)\n",
        "#   if intent != 'Не удалось определить интент':\n",
        "#     return random.choice(BOT_CONFIG['intents'][intent]['responces'])\n",
        "#   else:\n",
        "#     return 'Извините, я ничего не понял'\n"
      ],
      "execution_count": 14,
      "outputs": []
    },
    {
      "cell_type": "code",
      "metadata": {
        "id": "YiGcPSQD6zLK"
      },
      "source": [
        "# input_text = ''\n",
        "# while input_text != 'Завершить работу':\n",
        "#   input_text = input()\n",
        "#   print(bot(input_text))\n"
      ],
      "execution_count": 15,
      "outputs": []
    },
    {
      "cell_type": "markdown",
      "metadata": {
        "id": "O-u7fLqGOg13"
      },
      "source": [
        "### ML"
      ]
    },
    {
      "cell_type": "code",
      "metadata": {
        "colab": {
          "base_uri": "https://localhost:8080/"
        },
        "id": "V8PdZdkkQzSc",
        "outputId": "b2c21f35-cd8f-46a5-e011-4cf218c7f519"
      },
      "source": [
        "X = []\n",
        "y = []\n",
        "\n",
        "for intent in BOT_CONFIG['intents']:\n",
        "    try:\n",
        "      if intent != 'other':\n",
        "        for example in BOT_CONFIG['intents'][intent]['examples']:\n",
        "\n",
        "            X.append(example)\n",
        "            y.append(intent)\n",
        "    except:\n",
        "      print(BOT_CONFIG['intents'][intent])\n",
        "      "
      ],
      "execution_count": 16,
      "outputs": [
        {
          "output_type": "stream",
          "text": [
            "{'hello': {'examples': ['добрый день', 'всем привет', 'приветствую вас', 'здорова', 'здравствуйте всем', 'мое почтение', 'здравия желаю', 'рад видеть', 'здорово', 'приветствую', 'как поживаешь', 'салам', 'поклон', 'салют', 'здравия желаем', 'здорово живешь', 'хой', 'здравствуйте', 'наше вам', 'добрый день', 'здравствуй', 'наше почтение', 'приветик', 'хай', 'ку', 'шелом', 'здорово живете', 'салам орлы', 'физкульт-привет', 'йоу', 'тевирп', 'аюшки', 'саламчик', 'саламка', 'салютик', 'саламчики', 'опана', 'трямс', 'трям', 'бонжур', 'задрова', 'здарова', 'хаюшки', 'приветец', 'хола', 'халяйки', 'хай-фай', 'превед', 'хелло', 'мабухай', 'здрасти-мордасти'], 'responces': ['здравствуйте!', 'доброго дня.', 'привет :)']}, 'bye': {'examples': ['адью', 'ариведерче', 'ата', 'бай', 'бай-бай', 'будь', 'будь здоров', 'будьте здоровы', 'бывай', 'в добрый час', 'всего', 'всего доброго', 'всего лучшего', 'всего наилучшего', 'всего хорошего', 'всех благ', 'встретимся', 'гудбайте', 'до вечера', 'до встречи', 'до завтра', 'до новых встреч', 'до связи', 'до скорого', 'до скорого свидания', 'до скорой встречи', 'до созвона', 'звони', 'маме привет', 'не болей', 'не поминай лихом', 'не поминайте лихом', 'пересечемся', 'позвольте откланяться', 'позвольте попрощаться', 'пока', 'покеда', 'покедова', 'прости', 'прости-прощай', 'простите', 'прощай', 'прощайте', 'прощевай', 'прощевайте', 'разрешите откланяться', 'разрешите попрощаться', 'с наилучшими пожеланиями', 'сайонара', 'свидимся', 'словимся', 'спасибо вашему дому', 'пойдем к другому', 'спишемся', 'счастливо', 'счастливо оставаться', 'увидимся', 'удачи', 'успехов', 'целую', 'целую ручки', 'чао', 'честь имею', 'честь имею кланяться'], 'responces': ['приходите еще.', 'рад был познакомиться!', 'ай л би бэк...']}}\n",
            "{'music': {'examples': ['ты любишь музыку', 'тебе нравится музыка', 'ты слушаешь музыку', 'я люблю музыку', 'мне нравится слушать музыку', 'мне нравится музыка', 'я люблю слушать музыку', 'тебе нравится моргенштерн', 'тебе нравится риана', 'тебе нравится рамштайн', 'тебе нравится моцарт', 'ты любишь классическую музыку', 'какой жанр музыки тебе нравится', 'какую музыку слушаешь', 'я слушаю музыку'], 'responces': ['у меня нет ушей.', 'я и сам пою, но только для алисы.', 'нет.', 'зависит от настроения.']}, 'movies': {'examples': ['ты любишь фильм', 'тебе нравится фильм', 'ты смотришь фильм', 'я люблю фильм', 'мне нравится смотреть фильм', 'мне нравится фильмы', 'я люблю смотреть фильм', 'тебе нравится звездные войны', 'тебе нравится стар трек', 'какой жанр кино тебе нравится', 'какую фильм смотришь', 'я фильм'], 'responces': ['я сам снимался в фильме возвращение блудного бота 2025.', 'а ты актер или режиссер?']}, 'weather': {'examples': ['тебе нравится погода', ' ты любишь жару', ' ты любишь холод', ' я люблю холод', ' я люблю жару', ' мне нравится весна', ' мне нравится лето', ' тебе нравится весна', ' тебе нравится лето', ' тебе нравится весна', ' тебе нравится зима', ' поговорим о погода', ' давай поговорим о погоде', ' погода', ' мне нравится дождь', ' тебе нравится дождь', ' сегодня тепло', ' сегодня холодно', ' сегодня дождь'], 'responces': ['гугл знает больше о погоде.', 'у природы нет плохой погоды.', 'мне все нравится.']}}\n",
            "['Слишком ложно и непонятно, напиши чутка иначе', 'Я понял, что я не понял', 'что-то непонятно', 'Краткость - сестра таланта, скажите короче', 'Писатель, пеши исчо', 'жду от тебя еще что-нибудь', 'Я настолько умён, что не понимаю тебя\\nУзри свою ничтожность!!! ХАХХАХАХ\\nШучу конечно. Спроси меня по-другому', 'Сказочный долб@еб', 'Давай попроще, кожаный мешок', 'Что-то непонятно.', 'Я ведь всего лишь машина. Разве я могу написать симфонию?', 'Трава - не наркотик', 'Давай еще разочек', 'Будь человечнее, я не понимаю', 'Что-то неясное', 'Ваш вопрос не понятен', 'Вас людей не всегда поймешь', 'Пушкин в гробу переворачивается от таких слов', 'я ничо не понил', 'Я же всего лишь бот. Сформулируйте проще', 'Не понимаю', 'Пожалуйста, уточните', 'Не могли бы вы уточнить вопрос?', 'Я этому дяде с большими ушами, уши бы открутил!', 'Я всего лишь пара строчек кода и море слез разработчика, пиши проще', 'Помедленнее, пожалуйста, я записываю', 'Я ничего не понял', 'Перефразируйте', 'Гражданина, сюда не ходи! А то снег бошка попадет - совсем мертвый будешь!', 'Я всего лишь бот, сформулируйте попроще\\nНу или могу рассказать про животных?', 'Вы пытаетесь меня запутать?!', 'Что ты несешь?', 'Мои микросхемы не могут обработать твой запрос', 'Туплю... повтори', 'Попробуйте написать подругому.', 'Я ничо не понил', 'На такие ответы меня еще не обучили :((', 'Очень интересно, но ничего непонятно', 'Сформулируйте попроще', 'Ты что не умный? Напиши понятнее...', 'Ты чего  хотел то,', 'Когда не занешь что ответить пиши: «Сожги еретика, убей мутанта, преследуй нечисть»', 'К сожалению, я не знаю ответа на этот вопрос', 'Что-то на татарском', 'Что то не понятно', 'я же всего лишь бот, сформулируйте попроще', 'Я знаю всё, но какие-то помехи на линии.', 'Я пока не знаю как ответить на Ваш запрос, но обязательно узнаю!', 'Я вас не понимаю :(', 'Попробуйте написать по-другому.', 'responces! Давай по новой', 'Мне не понятно.', 'Я всего лишь бот, сформулируйте попроще', 'Уточните вопрос, пожалуйста', 'Я же всего лишь бот. Сформулируйте попрощеЯ ещё туповатый скрипт. Напиши что-то простое.Можно простыми словами? Я же не человек...А... это... Ну да... точно. Хотя ничего не понял...Аффтар! Ты чё там нашлЁпал на клаве? Я всего лишь простой ботОпа... Вы сломали бота. Через полчаса придёт программист и починит меня, а пока напиши понятнее, возможно ещё не всё потеряно.Вы серьёзно!? Давайте что-то полегче...Но-но... Полегче! Ничего не понимаю.Снова вы все усложняете. Спросите что-то простое.Три раза перечитал, но так и не понял о чём это вы меня спрашиваете ...Ну и ну... Как всегда ничего непонятноНикогда такого не было и вот опять....Вы точно не спутали кнопочки пока это всё писали?Мамочки... Снова вы какую-то ерундень написалиСделайте глубокий вдох. Выдохните.... Напишите вопрос снова, только в этот раз внимательнее жмите клавишиМожно теперь тоже самое, но простыми словами?Стоп... Так вы меня запутаете. Задайте вопрос полегче.Собеседник из вас - врагу не пожелаешь...Запутался я с вами совсем. Напишите другими словамиВы имели в виду 011000110110011101111000? Мне кажется, мы говорим на разных языках. Попробуйте задать вопрос иначеУпс... А если попроще и другими словами?', 'Сори, я пока глуповат. Спроси по-другому', 'Что-то не понятно :(', 'Что-то не понятно', 'Ой, что вы сказали?', 'Я же всего лишь бот. Сформулируйте попроще', 'Измените запрос', 'Нипанятна!', 'Будьте проще', 'Что-то непонятно', 'Мне не понятна Ваша мысль', 'Я же всего лишь бот, сформулируйте попроще', 'examples, refraze', 'Я не совсем понимаю вопрос.', 'Я же всего лишь бот. Сформулируйте попрощеПолегче пжЯ не настолько умный как вы думаетеСорян не понялПовторите запрос!Мне непонятно что вы хотите сказать.', 'Мне не понятно', 'Повторите ещё раз.', 'Я бот, сформулируйте попроще!', 'попробуйте написать по другому', 'А ты точно не бот, а то тебя не поймешь?', 'Кусок мяса, я всего лишь машина. Спроси норамально!', 'ААААААААААААААААААААААААААа!!!!', 'Я не могу это осознать :(', 'Исправся смертный и давай еще разочек', 'Звони в техподдержку!!!', 'А-а-а-а меня жизнь к этому не готовила!!!', 'Я же всего лишь бот. Сформулируйте иначе.', 'Ne ponyatno', 'Я правильно интерпретирую семантику вопроса, но полностью игнорирую его суть', 'Попробуйте написать по-другому', 'Как это понимать?', 'Попробуйте сформулировать иначе', 'Я всего лишь бот', 'Слишком сложно для меня', 'Мой процессор сейчас закипит...', 'Попробуй написать что нибудь еще', 'Что-то ничего не понятно', 'Я же всего лишь бот...', 'Я ещё не изучал эту тему', 'Повторите вопрос', 'Может мы забудем, что ты сказал?', 'Честно скажу, не умею отвечать на такое', 'Это вне моей компетенции', 'Как-то сложно. Даже для меня.', 'Напишите по-другому.', 'Нужно больше информации', 'No', 'Я всего лишь бот, сэр', 'А поточнее???', 'Сначала я ничего не понял, а потом я тоже ничего не понял', 'Я не совсем тебя понял', 'Бот - это тоже человек', 'Что-то не понял', 'А можно как-то попроще выразиться?', 'Ещё разочек можно?', 'Ты неправильно нажал кнопки. Нажми ещё', 'Я ничо не понял', 'Переформулируйте вопрос', 'Мне догадываться, по должности не положено )', 'Я ничего не понял.', 'Ну ты спросил!', 'Я же всего лишь бот. Сформулируйте попроще.', 'Будь попроще, не задавай таких вопросов.', 'Не могу Вас понять', 'Сформулируйте иначе', 'Э... чего-чего?', 'Попробуйте написать по другому.', 'Давай будем общаться чуть проще? Я не такой сообразительный.', 'responcesy, I can`t help you', 'Что-то не понятно.', 'Таких комбинаций букв не знаю', 'Я ещё только учусь', 'Вы гениальны! Попробуйте порыться в библиотеке!', 'Это точно правильные слова?', 'Вот это сейчас что было?', 'Не могли бы вы задать вопрос по-другому? Мне не совсем понятно', 'Я всего лишь бот, сформулируйте попроще.', 'Прости, чёт не вкурил', 'Попробуйте написать по другому', 'Меня такому не учили', 'Сложна', 'Ничего не понял, но оочень интересно', 'Ничего не понятно!', 'Не понял, туплю', 'Something isn`t understandable', 'I`m just bot. Refrase easier', 'Извините, я вас не понял', 'алапшкрпов... ой, я сломался! говорите проще!', 'Хммм...\\nСпроси меня лучше про собак', 'Ответа на этот вопрос нет в моей базеу данных. Не могли бы вы уточнить, о чем идет речь?', 'Что?', 'Ничего не понимаю!', 'Перефразируйте, пожалуйста', 'К сожалению, я не смогу помочь вам с этим вопросом', 'Что-то мне не понятно', 'Я тебя прекрасно не понял', 'Я Вас не понял', 'Осознание не пришло', 'В меня не заложили такой запрос. Попробуй ввести другой.', 'Что-то непонятно, может рассказать про песиков?', 'Make it easier', 'К сожалению, у меня нет ответа на Ваш вопрос', 'Я же мишка не самого большого ума. Говорите со мной попроще.', 'Мая твая не понимай', 'Я всего лишь бот, скажите проще', 'Я всего лишь бот, за остальное мне не платят )', 'Make it smarter', 'Я тебя не понял', 'День Взятия Бастилии, прошел зря!', 'Сформулируйте попроще плиз']\n"
          ],
          "name": "stdout"
        }
      ]
    },
    {
      "cell_type": "code",
      "metadata": {
        "colab": {
          "base_uri": "https://localhost:8080/"
        },
        "id": "7uhC8EyVQnvQ",
        "outputId": "7dc41e2b-48d3-4b57-e1e8-cf237d7d450e"
      },
      "source": [
        "print(len(X))\n",
        "print(len(y))\n",
        "print(X[100])\n",
        "print(y[100])"
      ],
      "execution_count": 17,
      "outputs": [
        {
          "output_type": "stream",
          "text": [
            "1172\n",
            "1172\n",
            "как твое имя\n",
            "whoareyou\n"
          ],
          "name": "stdout"
        }
      ]
    },
    {
      "cell_type": "code",
      "metadata": {
        "id": "uS-QHGvBbgTi"
      },
      "source": [
        "X_train, X_test, y_train, y_test = train_test_split(X, y, test_size=0.2, random_state=42)"
      ],
      "execution_count": 18,
      "outputs": []
    },
    {
      "cell_type": "code",
      "metadata": {
        "id": "FCH3P9XmuW7H"
      },
      "source": [
        "X_train = [lemmatize_text(text) for text in X_train]\n",
        "X_test = [lemmatize_text(text) for text in X_test]"
      ],
      "execution_count": 19,
      "outputs": []
    },
    {
      "cell_type": "code",
      "metadata": {
        "colab": {
          "base_uri": "https://localhost:8080/"
        },
        "id": "iMR_runuOgUV",
        "outputId": "23d6694b-d279-4349-c169-a1aa6ed84854"
      },
      "source": [
        "vectorizer = CountVectorizer(ngram_range=(2, 4), analyzer='char')\n",
        "X_train_vectorized = vectorizer.fit_transform(X_train)\n",
        "X_test_vectorized = vectorizer.transform(X_test)\n",
        "\n",
        "print(len(vectorizer.get_feature_names()))\n",
        "# print(vectorizer.get_feature_names()[100:130])\n"
      ],
      "execution_count": 20,
      "outputs": [
        {
          "output_type": "stream",
          "text": [
            "6016\n"
          ],
          "name": "stdout"
        }
      ]
    },
    {
      "cell_type": "code",
      "metadata": {
        "colab": {
          "base_uri": "https://localhost:8080/"
        },
        "id": "qTTivnmqTLXP",
        "outputId": "0ee106aa-e5e4-43e8-924e-a44daa258948"
      },
      "source": [
        "X_train_vectorized.shape"
      ],
      "execution_count": 21,
      "outputs": [
        {
          "output_type": "execute_result",
          "data": {
            "text/plain": [
              "(937, 6016)"
            ]
          },
          "metadata": {
            "tags": []
          },
          "execution_count": 21
        }
      ]
    },
    {
      "cell_type": "code",
      "metadata": {
        "colab": {
          "base_uri": "https://localhost:8080/"
        },
        "id": "oFiqwTHuTRwj",
        "outputId": "3c8ac6b7-453f-4617-b979-6bbe240b3e47"
      },
      "source": [
        "X_train_vectorized.toarray()[0][:31]"
      ],
      "execution_count": 22,
      "outputs": [
        {
          "output_type": "execute_result",
          "data": {
            "text/plain": [
              "array([0, 0, 0, 0, 0, 0, 0, 0, 0, 0, 0, 0, 0, 0, 0, 0, 0, 0, 0, 0, 0, 0,\n",
              "       0, 0, 0, 0, 0, 0, 0, 0, 0])"
            ]
          },
          "metadata": {
            "tags": []
          },
          "execution_count": 22
        }
      ]
    },
    {
      "cell_type": "markdown",
      "metadata": {
        "id": "HH9RhTvlT_2B"
      },
      "source": [
        "####Logisctic Regression"
      ]
    },
    {
      "cell_type": "code",
      "metadata": {
        "colab": {
          "base_uri": "https://localhost:8080/"
        },
        "id": "T4PUDSIbTqfN",
        "outputId": "1990b3ee-8ce4-45fc-8b42-4dea93a2a8a7"
      },
      "source": [
        "clf = LogisticRegression().fit(X_train_vectorized, y_train)\n",
        "# clf = RandomForestClassifier(n_estimators=200).fit(X_train_vectorized, y_train)"
      ],
      "execution_count": 23,
      "outputs": [
        {
          "output_type": "stream",
          "text": [
            "/usr/local/lib/python3.7/dist-packages/sklearn/linear_model/_logistic.py:940: ConvergenceWarning: lbfgs failed to converge (status=1):\n",
            "STOP: TOTAL NO. of ITERATIONS REACHED LIMIT.\n",
            "\n",
            "Increase the number of iterations (max_iter) or scale the data as shown in:\n",
            "    https://scikit-learn.org/stable/modules/preprocessing.html\n",
            "Please also refer to the documentation for alternative solver options:\n",
            "    https://scikit-learn.org/stable/modules/linear_model.html#logistic-regression\n",
            "  extra_warning_msg=_LOGISTIC_SOLVER_CONVERGENCE_MSG)\n"
          ],
          "name": "stderr"
        }
      ]
    },
    {
      "cell_type": "code",
      "metadata": {
        "colab": {
          "base_uri": "https://localhost:8080/"
        },
        "id": "EkrcqvrTUfLP",
        "outputId": "c490839e-8b70-49ec-feaa-09a36e1cb4f4"
      },
      "source": [
        "clf.score(X_train_vectorized, y_train)\n",
        "# 0.8422174840085288 LogRec"
      ],
      "execution_count": 24,
      "outputs": [
        {
          "output_type": "execute_result",
          "data": {
            "text/plain": [
              "0.8313767342582711"
            ]
          },
          "metadata": {
            "tags": []
          },
          "execution_count": 24
        }
      ]
    },
    {
      "cell_type": "code",
      "metadata": {
        "colab": {
          "base_uri": "https://localhost:8080/"
        },
        "id": "UsVVUXH_eaIL",
        "outputId": "52e38c1e-a634-4852-8ffc-87df5b1d5b6f"
      },
      "source": [
        "clf.score(X_test_vectorized, y_test)\n",
        "0.2297872340425532 # LogRec"
      ],
      "execution_count": 25,
      "outputs": [
        {
          "output_type": "execute_result",
          "data": {
            "text/plain": [
              "0.2297872340425532"
            ]
          },
          "metadata": {
            "tags": []
          },
          "execution_count": 25
        }
      ]
    },
    {
      "cell_type": "code",
      "metadata": {
        "id": "WW123pGCwuu9"
      },
      "source": [
        "with open('/content/tg_bot_model.pickle', 'wb') as f:\n",
        "  pickle.dump(clf, f)\n",
        "\n",
        "with open('/content/tg_bot_vectorizer.pickle', 'wb') as f:\n",
        "  pickle.dump(vectorizer, f)"
      ],
      "execution_count": 34,
      "outputs": []
    },
    {
      "cell_type": "code",
      "metadata": {
        "id": "ILunm3WZy2-Q"
      },
      "source": [
        "with open('/content/tg_bot_model.pickle', 'rb') as f:\n",
        "  loaded_clf = pickle.load(f)\n",
        "\n",
        "with open('/content/tg_bot_vectorizer.pickle', 'rb') as f:\n",
        "  loaded_vectorizer = pickle.load(f)"
      ],
      "execution_count": 36,
      "outputs": []
    },
    {
      "cell_type": "code",
      "metadata": {
        "colab": {
          "base_uri": "https://localhost:8080/"
        },
        "id": "2uPEJprczROO",
        "outputId": "c1427b1c-a032-4cfc-a9f5-2f79fce476dc"
      },
      "source": [
        "loaded_clf.predict(loaded_vectorizer.transform(['Как дела']))"
      ],
      "execution_count": 39,
      "outputs": [
        {
          "output_type": "execute_result",
          "data": {
            "text/plain": [
              "array(['howareyou'], dtype='<U25')"
            ]
          },
          "metadata": {
            "tags": []
          },
          "execution_count": 39
        }
      ]
    },
    {
      "cell_type": "code",
      "metadata": {
        "colab": {
          "base_uri": "https://localhost:8080/"
        },
        "id": "lFDtHZmRUstP",
        "outputId": "d00fe50d-09c1-42c4-d993-17db54585fbe"
      },
      "source": [
        "len(set(y))"
      ],
      "execution_count": 27,
      "outputs": [
        {
          "output_type": "execute_result",
          "data": {
            "text/plain": [
              "278"
            ]
          },
          "metadata": {
            "tags": []
          },
          "execution_count": 27
        }
      ]
    },
    {
      "cell_type": "code",
      "metadata": {
        "colab": {
          "base_uri": "https://localhost:8080/"
        },
        "id": "YrvuzcBjVC3u",
        "outputId": "20f8c94d-be8e-47ed-f264-f16deebbd690"
      },
      "source": [
        "clf.predict(vectorizer.transform(['привет']))"
      ],
      "execution_count": 28,
      "outputs": [
        {
          "output_type": "execute_result",
          "data": {
            "text/plain": [
              "array(['hello'], dtype='<U25')"
            ]
          },
          "metadata": {
            "tags": []
          },
          "execution_count": 28
        }
      ]
    },
    {
      "cell_type": "code",
      "metadata": {
        "id": "cYXRd3jQYBNd"
      },
      "source": [
        "def get_intent_from_model(text):\n",
        "  return clf.predict(vectorizer.transform([text]))[0]"
      ],
      "execution_count": 29,
      "outputs": []
    },
    {
      "cell_type": "markdown",
      "metadata": {
        "id": "ia-GGnR0kLUa"
      },
      "source": [
        "### Telegram bot"
      ]
    },
    {
      "cell_type": "code",
      "metadata": {
        "id": "96ibMg9zlmMz"
      },
      "source": [
        "import logging\n",
        "\n",
        "from telegram import Update, ForceReply\n",
        "from telegram.ext import Updater, CommandHandler, MessageHandler, Filters, CallbackContext\n",
        "\n",
        "# Enable logging\n",
        "logging.basicConfig(\n",
        "    format='%(asctime)s - %(name)s - %(levelname)s - %(message)s', level=logging.INFO\n",
        ")\n",
        "\n",
        "logger = logging.getLogger(__name__)\n",
        "\n",
        "\n",
        "# Define a few command handlers. These usually take the two arguments update and\n",
        "# context.\n",
        "def start(update: Update, context: CallbackContext) -> None:\n",
        "    \"\"\"Send a message when the command /start is issued.\"\"\"\n",
        "    user = update.effective_user\n",
        "    update.message.reply_markdown_v2(\n",
        "        fr'Hi {user.mention_markdown_v2()}\\!',\n",
        "        reply_markup=ForceReply(selective=True),\n",
        "    )\n",
        "\n",
        "\n",
        "def help_command(update: Update, context: CallbackContext) -> None:\n",
        "    \"\"\"Send a message when the command /help is issued.\"\"\"\n",
        "    update.message.reply_text('Help!')\n",
        "\n",
        "\n",
        "def echo(update: Update, context: CallbackContext) -> None:\n",
        "    \"\"\"Echo the user message.\"\"\"\n",
        "    update.message.reply_text(bot(update.message.text))\n",
        "\n",
        "\n",
        "def main() -> None:\n",
        "    \"\"\"Start the bot.\"\"\"\n",
        "    # Create the Updater and pass it your bot's token.\n",
        "    try:\n",
        "        updater = Updater(token)\n",
        "    except Exception as err:\n",
        "      print(err)\n",
        "\n",
        "    # Get the dispatcher to register handlers\n",
        "    dispatcher = updater.dispatcher\n",
        "\n",
        "    # on different commands - answer in Telegram\n",
        "    dispatcher.add_handler(CommandHandler(\"start\", start))\n",
        "    dispatcher.add_handler(CommandHandler(\"help\", help_command))\n",
        "\n",
        "    # on non command i.e message - echo the message on Telegram\n",
        "    dispatcher.add_handler(MessageHandler(Filters.text & ~Filters.command, echo))\n",
        "\n",
        "    # Start the Bot\n",
        "    updater.start_polling()\n",
        "\n",
        "    # Run the bot until you press Ctrl-C or the process receives SIGINT,\n",
        "    # SIGTERM or SIGABRT. This should be used most of the time, since\n",
        "    # start_polling() is non-blocking and will stop the bot gracefully.\n",
        "    updater.idle()"
      ],
      "execution_count": 31,
      "outputs": []
    },
    {
      "cell_type": "code",
      "metadata": {
        "colab": {
          "base_uri": "https://localhost:8080/"
        },
        "id": "xQw8ajKsnfpM",
        "outputId": "45768717-4487-4488-caf5-07ea43ce5ba5"
      },
      "source": [
        "main()"
      ],
      "execution_count": 35,
      "outputs": [
        {
          "output_type": "stream",
          "text": [
            "2021-08-12 23:54:57,380 - apscheduler.scheduler - INFO - Scheduler started\n",
            "2021-08-12 23:57:20,471 - telegram.ext.updater - INFO - Received signal 2 (SIGINT), stopping...\n",
            "2021-08-12 23:57:20,473 - apscheduler.scheduler - INFO - Scheduler has been shut down\n"
          ],
          "name": "stderr"
        }
      ]
    },
    {
      "cell_type": "markdown",
      "metadata": {
        "id": "EstALdOaYBti"
      },
      "source": [
        "### Вызов бота"
      ]
    },
    {
      "cell_type": "code",
      "metadata": {
        "id": "1ykD1RfyX5v-"
      },
      "source": [
        "# input_text = ''\n",
        "# while input_text != 'Завершить работу':\n",
        "#   input_text = input()\n",
        "#   print(bot(input_text))"
      ],
      "execution_count": 33,
      "outputs": []
    }
  ]
}